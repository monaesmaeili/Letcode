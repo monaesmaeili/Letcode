{
 "cells": [
  {
   "cell_type": "code",
   "execution_count": 122,
   "metadata": {},
   "outputs": [],
   "source": [
    "# using dictionary"
   ]
  },
  {
   "cell_type": "code",
   "execution_count": 123,
   "metadata": {},
   "outputs": [],
   "source": [
    "symbols={\"I\": 1 , \"V\": 5, \"X\": 10 , \"L\":50 , \"C\": 100 , \"D\": 500 , \"M\": 1000}"
   ]
  },
  {
   "cell_type": "code",
   "execution_count": 124,
   "metadata": {},
   "outputs": [
    {
     "data": {
      "text/plain": [
       "{'C': 100, 'D': 500, 'I': 1, 'L': 50, 'M': 1000, 'V': 5, 'X': 10}"
      ]
     },
     "execution_count": 124,
     "metadata": {},
     "output_type": "execute_result"
    }
   ],
   "source": [
    "symbols"
   ]
  },
  {
   "cell_type": "code",
   "execution_count": 125,
   "metadata": {},
   "outputs": [],
   "source": [
    "# for key in symbols:\n",
    "#     print(symbols[key])"
   ]
  },
  {
   "cell_type": "code",
   "execution_count": 126,
   "metadata": {},
   "outputs": [],
   "source": [
    "class Solution(object):\n",
    "    def romanToInt(self,s):\n",
    "        i=len(s)\n",
    "        result=0\n",
    "        while (i>=1):\n",
    "            if(i==1):\n",
    "                value1=s[i-1]\n",
    "                result=result+symbols[value1]\n",
    "                break\n",
    "            val1= s[i-1]\n",
    "            val2= s[i-2]\n",
    "            if(symbols[val1]>symbols[val2]):\n",
    "                result=result+symbols[val1]-symbols[val2]\n",
    "        \n",
    "            else:\n",
    "                result=result+(symbols[val1]+symbols[val2])\n",
    "            i=i-2\n",
    "        return(result) \n"
   ]
  },
  {
   "cell_type": "code",
   "execution_count": 127,
   "metadata": {},
   "outputs": [],
   "source": [
    "# Test case"
   ]
  },
  {
   "cell_type": "code",
   "execution_count": 128,
   "metadata": {},
   "outputs": [],
   "source": [
    "if __name__ == \"__main__\":\n",
    "    assert Solution().romanToInt(\"XII\") == 12\n",
    "    assert Solution().romanToInt(\"XXI\") == 21\n",
    "    assert Solution().romanToInt(\"XCIX\") == 99\n"
   ]
  },
  {
   "cell_type": "code",
   "execution_count": null,
   "metadata": {},
   "outputs": [],
   "source": []
  }
 ],
 "metadata": {
  "kernelspec": {
   "display_name": "Python 3",
   "language": "python",
   "name": "python3"
  },
  "language_info": {
   "codemirror_mode": {
    "name": "ipython",
    "version": 3
   },
   "file_extension": ".py",
   "mimetype": "text/x-python",
   "name": "python",
   "nbconvert_exporter": "python",
   "pygments_lexer": "ipython3",
   "version": "3.6.4"
  }
 },
 "nbformat": 4,
 "nbformat_minor": 2
}
