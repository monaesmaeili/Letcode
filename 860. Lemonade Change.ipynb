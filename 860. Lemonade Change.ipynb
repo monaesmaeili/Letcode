{
 "cells": [
  {
   "cell_type": "code",
   "execution_count": null,
   "metadata": {},
   "outputs": [],
   "source": [
    "# class Solution:\n",
    "#     def lemonadeChange(self, bills):\n",
    "#         \"\"\"\n",
    "#         :type bills: List[int]\n",
    "#         :rtype: bool\n",
    "#         \"\"\"\n",
    "        "
   ]
  },
  {
   "cell_type": "code",
   "execution_count": 22,
   "metadata": {},
   "outputs": [
    {
     "name": "stdout",
     "output_type": "stream",
     "text": [
      "5\n",
      "5\n",
      "10\n"
     ]
    }
   ],
   "source": [
    "bills=[5,5,10]\n",
    "\n",
    "    print(word)"
   ]
  },
  {
   "cell_type": "code",
   "execution_count": 15,
   "metadata": {},
   "outputs": [],
   "source": [
    "\n",
    "class Solution:\n",
    "    def lemonadeChange(self,bills):\n",
    "        cent5=0\n",
    "        cent10=0\n",
    "        for index,word in enumerate(bills):\n",
    "            if(word==5):\n",
    "          \n",
    "                cent5=cent5+1\n",
    "            elif(word==10):\n",
    "            \n",
    "                if(cent5==0):\n",
    "                    return False\n",
    "                \n",
    "                else:\n",
    "                    cent10= cent10+1\n",
    "                    cent5= cent5-1\n",
    "            else:\n",
    "                if(cent10!=0 and cent5!=0):\n",
    "                    cent10=cent10-1\n",
    "                    cent5=cent5-1\n",
    "                elif(cent5>=3):\n",
    "                    cent5=cent5-3\n",
    "                else:\n",
    "                    return False\n",
    "    \n",
    "        return True        "
   ]
  },
  {
   "cell_type": "code",
   "execution_count": 17,
   "metadata": {},
   "outputs": [],
   "source": [
    "if __name__==\"__main__\":\n",
    "    assert Solution().lemonadeChange(bills=[5,5,10,10,20])== False\n",
    "    assert Solution().lemonadeChange(bills=[5,5,10,20])== True\n",
    "    assert Solution().lemonadeChange(bills=[5,5,10])== True\n",
    "    assert Solution().lemonadeChange(bills=[10,10])== False"
   ]
  },
  {
   "cell_type": "code",
   "execution_count": null,
   "metadata": {},
   "outputs": [],
   "source": []
  }
 ],
 "metadata": {
  "kernelspec": {
   "display_name": "Python 3",
   "language": "python",
   "name": "python3"
  },
  "language_info": {
   "codemirror_mode": {
    "name": "ipython",
    "version": 3
   },
   "file_extension": ".py",
   "mimetype": "text/x-python",
   "name": "python",
   "nbconvert_exporter": "python",
   "pygments_lexer": "ipython3",
   "version": "3.6.4"
  }
 },
 "nbformat": 4,
 "nbformat_minor": 2
}
