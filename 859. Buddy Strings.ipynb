{
 "cells": [
  {
   "cell_type": "code",
   "execution_count": 92,
   "metadata": {},
   "outputs": [],
   "source": [
    "\n",
    "\n",
    "class Solution(object):\n",
    "    def BuddyStrings(self,A,B):\n",
    "        differences=0\n",
    "        flag=1\n",
    "        first_a_differ = first_b_diff = None\n",
    "        if(len(A) != len(B)):\n",
    "            flag=0\n",
    "\n",
    "    \n",
    "        for a_char,b_char in zip(A,B):\n",
    "            if(a_char == b_char):\n",
    "                continue\n",
    "            differences +=1\n",
    "            if(differences==1):\n",
    "                first_a_differ,first_b_diff= b_char,a_char \n",
    "\n",
    "            if(differences==2):\n",
    "                if ((a_char, b_char) != (first_a_differ, first_b_diff)):\n",
    "                    flag=0\n",
    "\n",
    "                    break\n",
    "        if(differences==0):\n",
    "            lengthA=len(set(A))\n",
    "            lengthB=len(set(B))\n",
    "\n",
    "            if(lengthA==1 and lengthB==1):\n",
    "                flag=1\n",
    "\n",
    "            else:\n",
    "                flag=0\n",
    "\n",
    "            \n",
    "        \n",
    "        if(flag==0):\n",
    "            return False\n",
    "        else: \n",
    "            return True\n",
    "\n",
    "    \n"
   ]
  },
  {
   "cell_type": "code",
   "execution_count": 93,
   "metadata": {},
   "outputs": [],
   "source": [
    "if __name__ == \"__main__\":\n",
    "    \n",
    "    assert Solution().BuddyStrings(A = \"aaaaaaa\", B = \"aaaaaaa\")==True\n",
    "    assert Solution().BuddyStrings(A = \"ab\", B = \"ab\")==False\n",
    "    assert Solution().BuddyStrings(A = \"ab\", B = \"ba\")==True\n",
    "    assert Solution().BuddyStrings(A = \"aaaaaaabc\", B = \"aaaaaaacb\")==True\n",
    "    assert Solution().BuddyStrings(A = \"\", B = \"aa\")==False"
   ]
  },
  {
   "cell_type": "code",
   "execution_count": null,
   "metadata": {},
   "outputs": [],
   "source": []
  }
 ],
 "metadata": {
  "kernelspec": {
   "display_name": "Python 3",
   "language": "python",
   "name": "python3"
  },
  "language_info": {
   "codemirror_mode": {
    "name": "ipython",
    "version": 3
   },
   "file_extension": ".py",
   "mimetype": "text/x-python",
   "name": "python",
   "nbconvert_exporter": "python",
   "pygments_lexer": "ipython3",
   "version": "3.6.4"
  }
 },
 "nbformat": 4,
 "nbformat_minor": 2
}
