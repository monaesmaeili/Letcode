{
 "cells": [
  {
   "cell_type": "code",
   "execution_count": 1,
   "metadata": {},
   "outputs": [],
   "source": [
    "# Given a sorted array nums, remove the duplicates in-place such that each element appear only once and return the new length.\n",
    "\n",
    "# Do not allocate extra space for another array, you must do this by modifying the input array in-place with O(1) extra memory."
   ]
  },
  {
   "cell_type": "code",
   "execution_count": null,
   "metadata": {},
   "outputs": [],
   "source": [
    "# Example 1:"
   ]
  },
  {
   "cell_type": "code",
   "execution_count": null,
   "metadata": {},
   "outputs": [],
   "source": [
    "# Given nums = [1,1,2],\n",
    "\n",
    "# Your function should return length = 2, with the first two elements of nums being 1 and 2 respectively.\n",
    "\n",
    "# It doesn't matter what you leave beyond the returned length"
   ]
  },
  {
   "cell_type": "code",
   "execution_count": 59,
   "metadata": {},
   "outputs": [],
   "source": [
    "# s=[0,0,1,1,1,2,2,3,3,4]\n",
    "# s=[1,1,1,1,2,2,2,4]\n",
    "\n",
    "class Solution(object):\n",
    "    def removeDuplicates(self,s):\n",
    "        i=0\n",
    "        while(i<len(s)-1):\n",
    "            if(s[i]==s[i+1]):\n",
    "                s.remove(s[i])\n",
    "            else:\n",
    "                i=i+1\n",
    "        return(s,len(s))\n",
    "\n",
    "    "
   ]
  },
  {
   "cell_type": "code",
   "execution_count": 64,
   "metadata": {},
   "outputs": [],
   "source": [
    "# Test case"
   ]
  },
  {
   "cell_type": "code",
   "execution_count": 65,
   "metadata": {},
   "outputs": [],
   "source": [
    "if __name__ == \"__main__\":\n",
    "    assert Solution().removeDuplicates([1,1,1,1,2,2,2,4]) == ([1, 2, 4], 3)\n",
    "    assert Solution().removeDuplicates([1,1,2]) == ([1, 2], 2)\n",
    "    assert Solution().removeDuplicates([1,1,1,1]) == ([1], 1)\n"
   ]
  },
  {
   "cell_type": "code",
   "execution_count": null,
   "metadata": {},
   "outputs": [],
   "source": []
  }
 ],
 "metadata": {
  "kernelspec": {
   "display_name": "Python 3",
   "language": "python",
   "name": "python3"
  },
  "language_info": {
   "codemirror_mode": {
    "name": "ipython",
    "version": 3
   },
   "file_extension": ".py",
   "mimetype": "text/x-python",
   "name": "python",
   "nbconvert_exporter": "python",
   "pygments_lexer": "ipython3",
   "version": "3.6.4"
  }
 },
 "nbformat": 4,
 "nbformat_minor": 2
}
