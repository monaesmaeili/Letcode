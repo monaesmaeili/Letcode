{
 "cells": [
  {
   "cell_type": "code",
   "execution_count": null,
   "metadata": {},
   "outputs": [],
   "source": [
    "s=\"aa\"\n",
    "p=\"a\"\n",
    "def isMatch(s, p):\n",
    "        \"\"\"\n",
    "        :type s: str\n",
    "        :type p: str\n",
    "        :rtype: bool\n",
    "        \"\"\"\n",
    "        i=0\n",
    "        j=0\n",
    "        while(i<len(s) or j<len(p) ):\n",
    "            if(s[i]==s[j]):\n",
    "                i=i+1\n",
    "                j=j+1\n",
    "            else if(s[j]=='*'):\n",
    "                s=s+s[i]\n",
    "                \n",
    "            \n",
    "        \n",
    "        "
   ]
  }
 ],
 "metadata": {
  "kernelspec": {
   "display_name": "Python 3",
   "language": "python",
   "name": "python3"
  },
  "language_info": {
   "codemirror_mode": {
    "name": "ipython",
    "version": 3
   },
   "file_extension": ".py",
   "mimetype": "text/x-python",
   "name": "python",
   "nbconvert_exporter": "python",
   "pygments_lexer": "ipython3",
   "version": "3.6.4"
  }
 },
 "nbformat": 4,
 "nbformat_minor": 2
}
