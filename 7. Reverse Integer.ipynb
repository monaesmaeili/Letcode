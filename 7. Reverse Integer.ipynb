{
 "cells": [
  {
   "cell_type": "code",
   "execution_count": null,
   "metadata": {},
   "outputs": [],
   "source": [
    "# It means, \"start at the end; count down to the beginning, stepping backwards one step at a time.\"\n",
    "\n",
    "# The slice notation has three parts: start, stop, step:"
   ]
  },
  {
   "cell_type": "code",
   "execution_count": 2,
   "metadata": {},
   "outputs": [
    {
     "data": {
      "text/plain": [
       "'cfi'"
      ]
     },
     "execution_count": 2,
     "metadata": {},
     "output_type": "execute_result"
    }
   ],
   "source": [
    "'abcdefghijklm'[2:10:3]  # start at 2, go upto 10, count by 3"
   ]
  },
  {
   "cell_type": "code",
   "execution_count": 4,
   "metadata": {},
   "outputs": [],
   "source": [
    "# If the start and stop aren't specified, it means to go through the entire sequence:"
   ]
  },
  {
   "cell_type": "code",
   "execution_count": 5,
   "metadata": {},
   "outputs": [
    {
     "data": {
      "text/plain": [
       "'adgjm'"
      ]
     },
     "execution_count": 5,
     "metadata": {},
     "output_type": "execute_result"
    }
   ],
   "source": [
    "'abcdefghijklm'[::3]  # beginning to end, counting by 3"
   ]
  },
  {
   "cell_type": "code",
   "execution_count": 6,
   "metadata": {},
   "outputs": [
    {
     "data": {
      "text/plain": [
       "'mjgda'"
      ]
     },
     "execution_count": 6,
     "metadata": {},
     "output_type": "execute_result"
    }
   ],
   "source": [
    "'abcdefghijklm'[::-3] # end to beginning, counting down by 3"
   ]
  },
  {
   "cell_type": "code",
   "execution_count": 29,
   "metadata": {},
   "outputs": [],
   "source": [
    "class Solution:\n",
    "    def reverse(self,x):\n",
    "        if x==0:\n",
    "            return 0\n",
    "        if(x<0):\n",
    "            y=-(int(str(-x)[::-1]))\n",
    "            if(y<-2147483648):\n",
    "                return 0\n",
    "            else:\n",
    "                return y\n",
    "        else:\n",
    "            y=int(str(x)[::-1])\n",
    "            if(y>2147483647):\n",
    "                return 0\n",
    "            else:\n",
    "                return y\n",
    "        \n",
    "    \n"
   ]
  },
  {
   "cell_type": "code",
   "execution_count": null,
   "metadata": {},
   "outputs": [],
   "source": [
    "class Solution:\n",
    "    def reverse(self,x):\n",
    "        if x==0:\n",
    "            return 0\n",
    "        if(x<0):\n",
    "            y=-(int(str(-x)[::-1]))\n",
    "            if(y<-2147483648):\n",
    "                return 0\n",
    "            else:\n",
    "                return y\n",
    "        else:\n",
    "            y=int(str(x)[::-1])\n",
    "            if(y>2147483647):\n",
    "                return 0\n",
    "            else:\n",
    "                return y\n",
    "        \n",
    "    "
   ]
  },
  {
   "cell_type": "code",
   "execution_count": 30,
   "metadata": {},
   "outputs": [],
   "source": [
    "if __name__==\"__main__\":\n",
    "    assert Solution().reverse(x=-123)== -321\n",
    "    assert Solution().reverse(x=123)== 321\n",
    "    assert Solution().reverse(x=120)== 21"
   ]
  },
  {
   "cell_type": "code",
   "execution_count": null,
   "metadata": {},
   "outputs": [],
   "source": []
  }
 ],
 "metadata": {
  "kernelspec": {
   "display_name": "Python 3",
   "language": "python",
   "name": "python3"
  },
  "language_info": {
   "codemirror_mode": {
    "name": "ipython",
    "version": 3
   },
   "file_extension": ".py",
   "mimetype": "text/x-python",
   "name": "python",
   "nbconvert_exporter": "python",
   "pygments_lexer": "ipython3",
   "version": "3.7.0"
  }
 },
 "nbformat": 4,
 "nbformat_minor": 2
}
