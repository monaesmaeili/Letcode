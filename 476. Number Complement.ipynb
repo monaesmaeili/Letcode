{
 "cells": [
  {
   "cell_type": "code",
   "execution_count": 203,
   "metadata": {},
   "outputs": [],
   "source": [
    "#  Runtime: 32 ms "
   ]
  },
  {
   "cell_type": "code",
   "execution_count": 234,
   "metadata": {},
   "outputs": [],
   "source": [
    "class Solution:\n",
    "    def findComplement(self, num):\n",
    "        \"\"\"\n",
    "        :type num: int\n",
    "        :rtype: int\n",
    "        \"\"\"\n",
    "        l=''\n",
    "        while(num/2):\n",
    "            b=num%2\n",
    "            l+=str(b)\n",
    "            num=int(num/2)\n",
    "        l=l[::-1] \n",
    "        l=list(l)\n",
    "    \n",
    "        for index, s in enumerate(l):\n",
    "            if(s=='0'):\n",
    "                l[index] = '1'\n",
    "            else:\n",
    "                l[index] = '0'\n",
    "    \n",
    "        f=''.join(l)\n",
    "        l=list(f)\n",
    "        lengthlist=len(l)\n",
    "        sum_value=0\n",
    "        for key,value in enumerate(l):\n",
    "            lengthlist=lengthlist-1\n",
    "            l[key]=int(value)*(2**(lengthlist))\n",
    "            sum_value=l[key]+ sum_value\n",
    "\n",
    "        \n",
    "\n",
    "        return sum_value\n",
    "    \n",
    "      "
   ]
  },
  {
   "cell_type": "code",
   "execution_count": 235,
   "metadata": {},
   "outputs": [
    {
     "data": {
      "text/plain": [
       "7"
      ]
     },
     "execution_count": 235,
     "metadata": {},
     "output_type": "execute_result"
    }
   ],
   "source": [
    "findComplement(8)"
   ]
  },
  {
   "cell_type": "code",
   "execution_count": 214,
   "metadata": {},
   "outputs": [],
   "source": [
    "class Solution:\n",
    "    def findComplement(self, num):\n",
    "        i=0\n",
    "        while i<num:\n",
    "            i=i<<1|1\n",
    "        return i^num"
   ]
  }
 ],
 "metadata": {
  "kernelspec": {
   "display_name": "Python 3",
   "language": "python",
   "name": "python3"
  },
  "language_info": {
   "codemirror_mode": {
    "name": "ipython",
    "version": 3
   },
   "file_extension": ".py",
   "mimetype": "text/x-python",
   "name": "python",
   "nbconvert_exporter": "python",
   "pygments_lexer": "ipython3",
   "version": "3.6.4"
  }
 },
 "nbformat": 4,
 "nbformat_minor": 2
}
