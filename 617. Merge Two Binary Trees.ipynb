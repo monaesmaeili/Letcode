{
 "cells": [
  {
   "cell_type": "code",
   "execution_count": 6,
   "metadata": {},
   "outputs": [],
   "source": [
    "# Definition for a binary tree node.\n",
    "# class TreeNode(object):\n",
    "#     def __init__(self, x):\n",
    "#         self.val = x\n",
    "#         self.left = None\n",
    "#         self.right = None\n",
    "\n",
    "# class Solution(object):\n",
    "def mergeTrees(t1, t2):\n",
    "        \"\"\" \n",
    "        :type t1: TreeNode \n",
    "        :type t2: TreeNode \n",
    "        :rtype: TreeNode \n",
    "        \"\"\" \n",
    "       \n",
    "        if t1 is None and t2 is None: \n",
    "            return \n",
    "       \n",
    "        if t1 is None: \n",
    "            return t2 \n",
    "        if t2 is None: \n",
    "            return t1 \n",
    "       \n",
    "        t1.val= t1.val+t2.val \n",
    "        t1.right = self.mergeTrees(t1.right, t2.right) \n",
    "        t1.left = self.mergeTrees(t1.left, t2.left) \n",
    "        return t1"
   ]
  },
  {
   "cell_type": "code",
   "execution_count": null,
   "metadata": {},
   "outputs": [],
   "source": []
  }
 ],
 "metadata": {
  "kernelspec": {
   "display_name": "Python 3",
   "language": "python",
   "name": "python3"
  },
  "language_info": {
   "codemirror_mode": {
    "name": "ipython",
    "version": 3
   },
   "file_extension": ".py",
   "mimetype": "text/x-python",
   "name": "python",
   "nbconvert_exporter": "python",
   "pygments_lexer": "ipython3",
   "version": "3.7.0"
  }
 },
 "nbformat": 4,
 "nbformat_minor": 2
}
