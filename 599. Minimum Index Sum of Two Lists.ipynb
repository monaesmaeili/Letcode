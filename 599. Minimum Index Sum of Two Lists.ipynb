{
 "cells": [
  {
   "cell_type": "code",
   "execution_count": 257,
   "metadata": {},
   "outputs": [],
   "source": [
    "class Solution:\n",
    "    def findRestaurant(self, list1, list2):\n",
    "        \"\"\"\n",
    "        :type list1: List[str]\n",
    "        :type list2: List[str]\n",
    "        :rtype: List[str]\n",
    "        \"\"\"\n",
    "        A={}\n",
    "        result=[]\n",
    "        count=0\n",
    "        max_element=0\n",
    "        i=0\n",
    "        min_index=10000000000\n",
    "        for key,value in enumerate(list1):\n",
    "            for key1,value1 in enumerate(list2):\n",
    "                if(value==value1):\n",
    "                    count=count+1\n",
    "                    A[key]=(value,count)\n",
    "                    index=key+key1\n",
    "                    if(((A.get(key)[1])>=max_element) and (index<=min_index)):\n",
    "                        min_index=index\n",
    "                        max_element= A.get(key)[1]\n",
    "                        if(A.get(key)[0] not in result):\n",
    "                            result.append(A.get(key)[0])\n",
    "    \n",
    "            count=0 \n",
    "        return result"
   ]
  },
  {
   "cell_type": "code",
   "execution_count": 258,
   "metadata": {},
   "outputs": [
    {
     "data": {
      "text/plain": [
       "['Shogun']"
      ]
     },
     "execution_count": 258,
     "metadata": {},
     "output_type": "execute_result"
    }
   ],
   "source": [
    "findRestaurant([\"Shogun\", \"Tapioca Express\", \"Burger King\", \"KFC\"],\n",
    "[\"KFC\", \"Shogun\", \"Burger King\"])"
   ]
  },
  {
   "cell_type": "code",
   "execution_count": null,
   "metadata": {},
   "outputs": [],
   "source": []
  }
 ],
 "metadata": {
  "kernelspec": {
   "display_name": "Python 3",
   "language": "python",
   "name": "python3"
  },
  "language_info": {
   "codemirror_mode": {
    "name": "ipython",
    "version": 3
   },
   "file_extension": ".py",
   "mimetype": "text/x-python",
   "name": "python",
   "nbconvert_exporter": "python",
   "pygments_lexer": "ipython3",
   "version": "3.6.4"
  }
 },
 "nbformat": 4,
 "nbformat_minor": 2
}
