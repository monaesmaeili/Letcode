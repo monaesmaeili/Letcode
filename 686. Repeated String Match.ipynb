{
 "cells": [
  {
   "cell_type": "code",
   "execution_count": null,
   "metadata": {},
   "outputs": [],
   "source": [
    "# not efficent my algorithm. "
   ]
  },
  {
   "cell_type": "code",
   "execution_count": 33,
   "metadata": {},
   "outputs": [],
   "source": [
    "def repeatedStringMatch(A, B):\n",
    "        \"\"\"\n",
    "        :type A: str\n",
    "        :type B: str\n",
    "        :rtype: int\n",
    "        \"\"\"\n",
    "        start=0\n",
    "        S=A\n",
    "        i=len(B)+len(A)\n",
    "        print(i)\n",
    "        j=1\n",
    "        if B in A:\n",
    "            return j\n",
    "        else:\n",
    "            \n",
    "            while(start<i):\n",
    "                S=S+A\n",
    "                if(B in S):\n",
    "                    j=j+1\n",
    "                    return j\n",
    "                else:\n",
    "                    j=j+1\n",
    "                    start=start+1\n",
    "        \n",
    "        return -1"
   ]
  },
  {
   "cell_type": "code",
   "execution_count": 34,
   "metadata": {},
   "outputs": [
    {
     "name": "stdout",
     "output_type": "stream",
     "text": [
      "12\n"
     ]
    },
    {
     "data": {
      "text/plain": [
       "3"
      ]
     },
     "execution_count": 34,
     "metadata": {},
     "output_type": "execute_result"
    }
   ],
   "source": [
    "A=\"abcd\"\n",
    "B=\"cdabcdab\"\n",
    "repeatedStringMatch(A, B)"
   ]
  },
  {
   "cell_type": "code",
   "execution_count": 56,
   "metadata": {},
   "outputs": [],
   "source": [
    "def repeatedStringMatch(A, B):\n",
    "#         F=(len(B) - 1)\n",
    "#         print(\"F\",F)\n",
    "#         H=len(A) + 1\n",
    "#         print(\"H\",H)\n",
    "        q = (len(B) - 1) // len(A) + 1\n",
    "#         print(\"q\",q)\n",
    "        for i in range(2):\n",
    "#             print(i)\n",
    "            if B in A * (q+i): return q+i\n",
    "        return -1"
   ]
  },
  {
   "cell_type": "code",
   "execution_count": 57,
   "metadata": {},
   "outputs": [
    {
     "data": {
      "text/plain": [
       "3"
      ]
     },
     "execution_count": 57,
     "metadata": {},
     "output_type": "execute_result"
    }
   ],
   "source": [
    "A=\"abcd\"\n",
    "B=\"cdabcdab\"\n",
    "repeatedStringMatch(A, B)"
   ]
  },
  {
   "cell_type": "code",
   "execution_count": 53,
   "metadata": {},
   "outputs": [
    {
     "data": {
      "text/plain": [
       "1"
      ]
     },
     "execution_count": 53,
     "metadata": {},
     "output_type": "execute_result"
    }
   ],
   "source": [
    "7//5"
   ]
  },
  {
   "cell_type": "code",
   "execution_count": 60,
   "metadata": {},
   "outputs": [
    {
     "name": "stdout",
     "output_type": "stream",
     "text": [
      "4\n",
      "1\n"
     ]
    }
   ],
   "source": [
    "l, r = divmod(9, 2)\n",
    "print(l)\n",
    "print(r)"
   ]
  },
  {
   "cell_type": "code",
   "execution_count": null,
   "metadata": {},
   "outputs": [],
   "source": []
  }
 ],
 "metadata": {
  "kernelspec": {
   "display_name": "Python 3",
   "language": "python",
   "name": "python3"
  },
  "language_info": {
   "codemirror_mode": {
    "name": "ipython",
    "version": 3
   },
   "file_extension": ".py",
   "mimetype": "text/x-python",
   "name": "python",
   "nbconvert_exporter": "python",
   "pygments_lexer": "ipython3",
   "version": "3.6.4"
  }
 },
 "nbformat": 4,
 "nbformat_minor": 2
}
