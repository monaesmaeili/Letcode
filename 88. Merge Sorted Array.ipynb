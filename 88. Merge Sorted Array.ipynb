{
 "cells": [
  {
   "cell_type": "code",
   "execution_count": 164,
   "metadata": {},
   "outputs": [],
   "source": [
    "def deletearray(n):\n",
    "#     for i in n:\n",
    "#         if i >0:\n",
    "#             removed_n.append(i)\n",
    "    removed_n = [a for a in n if a!=0]\n",
    "    return (removed_n)\n",
    "    '''\n",
    "    for value in (n):\n",
    "        print( value, n)\n",
    "        if(value==0):\n",
    "            n.remove(value)\n",
    "    return(n)\n",
    "    '''\n",
    "        "
   ]
  },
  {
   "cell_type": "code",
   "execution_count": 42,
   "metadata": {},
   "outputs": [
    {
     "ename": "SyntaxError",
     "evalue": "invalid syntax (<ipython-input-42-876294c92716>, line 23)",
     "output_type": "error",
     "traceback": [
      "\u001b[0;36m  File \u001b[0;32m\"<ipython-input-42-876294c92716>\"\u001b[0;36m, line \u001b[0;32m23\u001b[0m\n\u001b[0;31m    return(nums1[:q+1]=nums2[:q+1])\u001b[0m\n\u001b[0m                      ^\u001b[0m\n\u001b[0;31mSyntaxError\u001b[0m\u001b[0;31m:\u001b[0m invalid syntax\n"
     ]
    }
   ],
   "source": [
    "class Solution(object):\n",
    "    def merge(self, nums1, m, nums2, n):\n",
    "        \"\"\"\n",
    "        :type nums1: List[int]\n",
    "        :type m: int\n",
    "        :type nums2: List[int]\n",
    "        :type n: int\n",
    "        :rtype: void Do not return anything, modify nums1 in-place instead.\n",
    "        \"\"\"\n",
    "        p, q = m-1, n-1\n",
    "        while p >= 0 and q >= 0:\n",
    "            if nums1[p] > nums2[q]:\n",
    "                nums1[p+q+1] = nums1[p]\n",
    "                p = p-1\n",
    "            else:\n",
    "                nums1[p+q+1] = nums2[q]\n",
    "                q = q-1\n",
    "        nums1[:q+1]=nums2[:q+1]"
   ]
  },
  {
   "cell_type": "code",
   "execution_count": 40,
   "metadata": {},
   "outputs": [],
   "source": [
    "nums1 = [1, 1, 2, 2, 4, 0, 0, 0, 0]\n",
    "m = 5\n",
    "nums2 = [0, 0, 2, 3]\n",
    "n = 4"
   ]
  },
  {
   "cell_type": "code",
   "execution_count": 41,
   "metadata": {},
   "outputs": [
    {
     "data": {
      "text/plain": [
       "[1, 1, 1, 1, 2, 2, 2, 3, 4]"
      ]
     },
     "execution_count": 41,
     "metadata": {},
     "output_type": "execute_result"
    }
   ],
   "source": [
    "Solution().merge(nums1,m,nums2,n)\n"
   ]
  },
  {
   "cell_type": "code",
   "execution_count": 33,
   "metadata": {},
   "outputs": [
    {
     "data": {
      "text/plain": [
       "[1, 2, 2, 3, 5]"
      ]
     },
     "execution_count": 33,
     "metadata": {},
     "output_type": "execute_result"
    }
   ],
   "source": [
    "nums1[:5]"
   ]
  },
  {
   "cell_type": "code",
   "execution_count": 111,
   "metadata": {},
   "outputs": [
    {
     "data": {
      "text/plain": [
       "[0, 1, 2, 3]"
      ]
     },
     "execution_count": 111,
     "metadata": {},
     "output_type": "execute_result"
    }
   ],
   "source": [
    "sorted([1,2,3,0])"
   ]
  },
  {
   "cell_type": "code",
   "execution_count": 158,
   "metadata": {},
   "outputs": [],
   "source": [
    "def deletearray(n):\n",
    "#     for i in n:\n",
    "#         if i >0:\n",
    "#             removed_n.append(i)\n",
    "    removed_n = [a for a in n if a!=0]\n",
    "    return (removed_n)\n",
    "    '''\n",
    "    for value in (n):\n",
    "        print( value, n)\n",
    "        if(value==0):\n",
    "            n.remove(value)\n",
    "    return(n)\n",
    "    '''\n",
    "        "
   ]
  },
  {
   "cell_type": "code",
   "execution_count": 159,
   "metadata": {},
   "outputs": [
    {
     "name": "stdout",
     "output_type": "stream",
     "text": [
      "[1, 3]\n"
     ]
    }
   ],
   "source": [
    "print(deletearray([1,0,0,3]))"
   ]
  },
  {
   "cell_type": "code",
   "execution_count": null,
   "metadata": {},
   "outputs": [],
   "source": []
  }
 ],
 "metadata": {
  "kernelspec": {
   "display_name": "Python 3",
   "language": "python",
   "name": "python3"
  },
  "language_info": {
   "codemirror_mode": {
    "name": "ipython",
    "version": 3
   },
   "file_extension": ".py",
   "mimetype": "text/x-python",
   "name": "python",
   "nbconvert_exporter": "python",
   "pygments_lexer": "ipython3",
   "version": "3.6.4"
  }
 },
 "nbformat": 4,
 "nbformat_minor": 2
}
