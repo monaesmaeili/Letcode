{
 "cells": [
  {
   "cell_type": "code",
   "execution_count": 37,
   "metadata": {},
   "outputs": [],
   "source": [
    "\n",
    "class Solution(object):\n",
    "    def wordPattern(self,pattern,sentence):\n",
    "        dic={}\n",
    "        result = {}\n",
    "        lengthpattern=len(pattern)\n",
    "        string=sentence.split(' ')\n",
    "        if(lengthpattern !=len(string) ):\n",
    "    \n",
    "                return(False)\n",
    "        else:\n",
    "            for index,word in enumerate(string):\n",
    "                key=pattern[index]\n",
    "                    \n",
    "                if(key not in dic):\n",
    "                    dic[key]=word\n",
    "#                     print(dic.items())\n",
    "                    \n",
    "                elif(dic.get(key) not in word):\n",
    "                    return(False)\n",
    "            for key,value in dic.items():\n",
    "                if value not in result.values():\n",
    "                    result[key]=value\n",
    "                else:\n",
    "                    return(False) \n",
    "            return(True)\n",
    "            \n",
    "        \n"
   ]
  },
  {
   "cell_type": "code",
   "execution_count": 38,
   "metadata": {},
   "outputs": [],
   "source": [
    "# Test Case"
   ]
  },
  {
   "cell_type": "code",
   "execution_count": 39,
   "metadata": {},
   "outputs": [],
   "source": [
    "if __name__ == \"__main__\":\n",
    "    \n",
    "    assert Solution().wordPattern(pattern=\"abba\",   sentence=\"dog cat cat dog\") == True\n",
    "    assert Solution().wordPattern(pattern = \"abba\", sentence = \"dog cat cat fish\")== False\n",
    "    assert Solution().wordPattern(pattern = \"aaaa\", sentence = \"dog cat cat dog\")== False\n",
    "    assert Solution().wordPattern(pattern = \"abba\", sentence = \"dog dog dog dog\")== False\n",
    "    assert Solution().wordPattern(pattern = \"abba\", sentence = \"dog dog dog dog\")== False"
   ]
  },
  {
   "cell_type": "code",
   "execution_count": null,
   "metadata": {},
   "outputs": [],
   "source": []
  }
 ],
 "metadata": {
  "kernelspec": {
   "display_name": "Python 3",
   "language": "python",
   "name": "python3"
  },
  "language_info": {
   "codemirror_mode": {
    "name": "ipython",
    "version": 3
   },
   "file_extension": ".py",
   "mimetype": "text/x-python",
   "name": "python",
   "nbconvert_exporter": "python",
   "pygments_lexer": "ipython3",
   "version": "3.6.4"
  }
 },
 "nbformat": 4,
 "nbformat_minor": 2
}
