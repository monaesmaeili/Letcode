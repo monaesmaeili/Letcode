{
 "cells": [
  {
   "cell_type": "code",
   "execution_count": null,
   "metadata": {},
   "outputs": [],
   "source": [
    "# First Solution complexity O(n)"
   ]
  },
  {
   "cell_type": "code",
   "execution_count": 32,
   "metadata": {},
   "outputs": [],
   "source": [
    "class Solution:\n",
    "    def searchInsert(self,nums, target):\n",
    "        A=len(nums)-1\n",
    "        for key,value in enumerate(nums):\n",
    "            if(value==target or value>target):\n",
    "                return key\n",
    "            elif(key==A):\n",
    "                key=key+1\n",
    "                return key\n",
    "            \n",
    "    "
   ]
  },
  {
   "cell_type": "code",
   "execution_count": 33,
   "metadata": {},
   "outputs": [],
   "source": [
    "if __name__==\"__main__\":\n",
    "    assert Solution().searchInsert([1,3,5,6], 5)==2\n",
    "    assert Solution().searchInsert([1,3,5,6], 2)==1\n",
    "    assert Solution().searchInsert([1,3,5,6], 7)==4\n",
    "    assert Solution().searchInsert([1,3,5,6], 0)==0"
   ]
  },
  {
   "cell_type": "code",
   "execution_count": 79,
   "metadata": {},
   "outputs": [],
   "source": [
    "# Second Solution complexity O(log(n)) Binary Search"
   ]
  },
  {
   "cell_type": "code",
   "execution_count": 121,
   "metadata": {},
   "outputs": [],
   "source": [
    "class Solution:\n",
    "    def searchInsert(self,nums, target):\n",
    "        last=len(nums)\n",
    "        first=0\n",
    "        \n",
    "        while(first<last):\n",
    "            middle=int((first+last)/2)\n",
    "        \n",
    "            if(nums[middle]==target):\n",
    "                return middle\n",
    "            \n",
    "            if(nums[middle-1]==target):\n",
    "                return middle-1\n",
    "           \n",
    "            elif(nums[middle]> target):\n",
    "\n",
    "                if(middle==0):\n",
    "#                     \n",
    "                    return 0\n",
    "                if(nums[middle-1]<target):\n",
    "                    return middle\n",
    "                else:\n",
    "                    last=middle-1\n",
    "                    if(last==0):\n",
    "                        return 0\n",
    "                    \n",
    "            elif(nums[middle]<target):\n",
    "                if(middle==len(nums)-1):\n",
    "                    return middle+1\n",
    "                if(nums[middle+1]>target):\n",
    "                    return middle+1\n",
    "                else:\n",
    "                    first=middle+1"
   ]
  },
  {
   "cell_type": "code",
   "execution_count": 124,
   "metadata": {},
   "outputs": [],
   "source": [
    "if __name__==\"__main__\":\n",
    "    assert Solution().searchInsert([1,3,5,6], 5)==2\n",
    "    assert Solution().searchInsert([1,3,5,6], 2)==1\n",
    "    assert Solution().searchInsert([1,3,5,6], 7)==4\n",
    "    assert Solution().searchInsert([1,3,5,6], 0)==0\n",
    "    assert Solution().searchInsert([1,3], 0)==0\n",
    "    assert Solution().searchInsert([1], 1)==0"
   ]
  }
 ],
 "metadata": {
  "kernelspec": {
   "display_name": "Python 3",
   "language": "python",
   "name": "python3"
  },
  "language_info": {
   "codemirror_mode": {
    "name": "ipython",
    "version": 3
   },
   "file_extension": ".py",
   "mimetype": "text/x-python",
   "name": "python",
   "nbconvert_exporter": "python",
   "pygments_lexer": "ipython3",
   "version": "3.7.0"
  }
 },
 "nbformat": 4,
 "nbformat_minor": 2
}
